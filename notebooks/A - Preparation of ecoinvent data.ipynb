{
 "cells": [
  {
   "cell_type": "markdown",
   "metadata": {},
   "source": [
    "# Prepare ecoinvent data \n",
    "(calculate IPCC 2013 results and join them with metadata from the Activity Overview file)"
   ]
  },
  {
   "cell_type": "code",
   "execution_count": 1,
   "metadata": {},
   "outputs": [
    {
     "name": "stdout",
     "output_type": "stream",
     "text": [
      "Using environment variable BRIGHTWAY2_DIR for data directory:\n",
      "C:\\Users\\steub\\OneDrive - Universiteit Leiden\\Brightway3\n"
     ]
    }
   ],
   "source": [
    "import brightway2 as bw\n",
    "import pandas as pd\n",
    "\n",
    "DATA_PATH = \"../data/\""
   ]
  },
  {
   "cell_type": "markdown",
   "metadata": {
    "tags": []
   },
   "source": [
    "# Steps in this notebook:"
   ]
  },
  {
   "cell_type": "markdown",
   "metadata": {},
   "source": [
    "1. Select brightway project and within that project the ecoinvent 3.4 database (cut-off model)\n",
    "2. Calculate IPCC 2013 results (GWP100a)\n",
    "3. Load the Activity Overview file and add the LCA results to it.\n",
    "4. Save the Activity Overview with LCIA results to Excel"
   ]
  },
  {
   "cell_type": "markdown",
   "metadata": {},
   "source": [
    "## 1. Select brightway project and within that project the ecoinvent 3.4 database (cut-off model)"
   ]
  },
  {
   "cell_type": "markdown",
   "metadata": {},
   "source": [
    "#### Project"
   ]
  },
  {
   "cell_type": "code",
   "execution_count": 2,
   "metadata": {},
   "outputs": [
    {
     "data": {
      "text/plain": [
       "Brightway2 projects manager with 13 objects:\n",
       "\tC4P\n",
       "\tLCA-PR\n",
       "\tMIN-TEA\n",
       "\tMultifunctionality\n",
       "\tdefault\n",
       "\tei33\n",
       "\tei34\n",
       "\tei35\n",
       "\tei36\n",
       "\tei37\n",
       "\tei38\n",
       "\ttest\n",
       "\tvideo\n",
       "Use `projects.report()` to get a report on all projects."
      ]
     },
     "execution_count": 2,
     "metadata": {},
     "output_type": "execute_result"
    }
   ],
   "source": [
    "bw.projects"
   ]
  },
  {
   "cell_type": "code",
   "execution_count": 3,
   "metadata": {},
   "outputs": [],
   "source": [
    "bw.projects.set_current('ei34')"
   ]
  },
  {
   "cell_type": "markdown",
   "metadata": {},
   "source": [
    "#### Database"
   ]
  },
  {
   "cell_type": "code",
   "execution_count": 4,
   "metadata": {},
   "outputs": [],
   "source": [
    "eidb = bw.Database('ecoinvent 3.4 cutoff')\n",
    "db = eidb.load()  # the actual data; we need that for the setting the right values in the functional unit"
   ]
  },
  {
   "cell_type": "markdown",
   "metadata": {},
   "source": [
    "#### Activities"
   ]
  },
  {
   "cell_type": "code",
   "execution_count": 5,
   "metadata": {},
   "outputs": [
    {
     "name": "stdout",
     "output_type": "stream",
     "text": [
      "14889\n"
     ]
    }
   ],
   "source": [
    "# activities could be filtered here, but we just take the entire database for now\n",
    "activities = [act.key for act in eidb]\n",
    "print(len(activities))"
   ]
  },
  {
   "cell_type": "markdown",
   "metadata": {
    "tags": []
   },
   "source": [
    "#### Functional Units"
   ]
  },
  {
   "cell_type": "code",
   "execution_count": 6,
   "metadata": {},
   "outputs": [],
   "source": [
    "# production amount for every activity (normally 1, but there are exceptions, e.g. treatment datasets = -1)\n",
    "functional_units = []  # list of dicts\n",
    "for act in activities:\n",
    "    functional_units.append({act: db[act]['production amount']})"
   ]
  },
  {
   "cell_type": "code",
   "execution_count": 7,
   "metadata": {},
   "outputs": [
    {
     "data": {
      "text/plain": [
       "[{('ecoinvent 3.4 cutoff', 'a1716ba88fa010623183e091d41f6c7e'): -1.0},\n",
       " {('ecoinvent 3.4 cutoff', '061b18e96ecc15ee17944576986f7ee3'): 1.0}]"
      ]
     },
     "execution_count": 7,
     "metadata": {},
     "output_type": "execute_result"
    }
   ],
   "source": [
    "functional_units[:2]"
   ]
  },
  {
   "cell_type": "markdown",
   "metadata": {
    "tags": []
   },
   "source": [
    "#### Define LCIA method"
   ]
  },
  {
   "cell_type": "code",
   "execution_count": 8,
   "metadata": {},
   "outputs": [],
   "source": [
    "method = ('IPCC 2013 as in EXIOBASE', 'climate change', 'GWP 100a')"
   ]
  },
  {
   "cell_type": "code",
   "execution_count": 9,
   "metadata": {},
   "outputs": [
    {
     "data": {
      "text/plain": [
       "{'description': 'Climate change assessment consistent with CFs in Exiobase',\n",
       " 'filename': 'LCIA_methods_for_import.xlsx',\n",
       " 'unit': 'kg CO2-Eq',\n",
       " 'abbreviation': 'ipcc-2013-as-in-exiobasecg.b68cffbf8dda29c989c67ff2c7aaedf9',\n",
       " 'num_cfs': 61}"
      ]
     },
     "execution_count": 9,
     "metadata": {},
     "output_type": "execute_result"
    }
   ],
   "source": [
    "bw.methods[method]"
   ]
  },
  {
   "cell_type": "code",
   "execution_count": 10,
   "metadata": {},
   "outputs": [],
   "source": [
    "# one could go deeper here to see the characterization factors like this\n",
    "#bw.Method(method).load()"
   ]
  },
  {
   "cell_type": "markdown",
   "metadata": {},
   "source": [
    "# 2. Calculate IPCC 2013 results (GWP100a)"
   ]
  },
  {
   "cell_type": "markdown",
   "metadata": {},
   "source": [
    "#### Calculation setup"
   ]
  },
  {
   "cell_type": "code",
   "execution_count": 11,
   "metadata": {},
   "outputs": [],
   "source": [
    "cs_name = \"all activities\"\n",
    "bw.calculation_setups[cs_name] = {\n",
    "    'inv': functional_units,\n",
    "    'ia': [method]\n",
    "}"
   ]
  },
  {
   "cell_type": "markdown",
   "metadata": {},
   "source": [
    "#### Multi-LCA (takes several minutes)"
   ]
  },
  {
   "cell_type": "code",
   "execution_count": 12,
   "metadata": {},
   "outputs": [
    {
     "name": "stdout",
     "output_type": "stream",
     "text": [
      "157.3614466190338\n"
     ]
    }
   ],
   "source": [
    "from time import time\n",
    "start = time()\n",
    "\n",
    "MLCA = bw.MultiLCA(cs_name)\n",
    "\n",
    "print(time() - start)"
   ]
  },
  {
   "cell_type": "markdown",
   "metadata": {},
   "source": [
    "# 3. Load the Activity Overview file and add the LCA results to it."
   ]
  },
  {
   "cell_type": "markdown",
   "metadata": {},
   "source": [
    "#### LCIA results dataframe"
   ]
  },
  {
   "cell_type": "code",
   "execution_count": 13,
   "metadata": {},
   "outputs": [
    {
     "data": {
      "text/plain": [
       "array([[5.45996822e-03],\n",
       "       [1.91703397e+00],\n",
       "       [1.99954821e-02],\n",
       "       ...,\n",
       "       [5.12467108e+00],\n",
       "       [1.28617232e+00],\n",
       "       [6.21756477e+00]])"
      ]
     },
     "execution_count": 13,
     "metadata": {},
     "output_type": "execute_result"
    }
   ],
   "source": [
    "MLCA.results"
   ]
  },
  {
   "cell_type": "code",
   "execution_count": 14,
   "metadata": {},
   "outputs": [
    {
     "name": "stdout",
     "output_type": "stream",
     "text": [
      "(14889, 2)\n"
     ]
    },
    {
     "data": {
      "text/html": [
       "<div>\n",
       "<style scoped>\n",
       "    .dataframe tbody tr th:only-of-type {\n",
       "        vertical-align: middle;\n",
       "    }\n",
       "\n",
       "    .dataframe tbody tr th {\n",
       "        vertical-align: top;\n",
       "    }\n",
       "\n",
       "    .dataframe thead th {\n",
       "        text-align: right;\n",
       "    }\n",
       "</style>\n",
       "<table border=\"1\" class=\"dataframe\">\n",
       "  <thead>\n",
       "    <tr style=\"text-align: right;\">\n",
       "      <th></th>\n",
       "      <th>key</th>\n",
       "      <th>(IPCC 2013 as in EXIOBASE, climate change, GWP 100a)</th>\n",
       "    </tr>\n",
       "  </thead>\n",
       "  <tbody>\n",
       "    <tr>\n",
       "      <th>0</th>\n",
       "      <td>('ecoinvent 3.4 cutoff', 'a1716ba88fa010623183...</td>\n",
       "      <td>0.005460</td>\n",
       "    </tr>\n",
       "    <tr>\n",
       "      <th>1</th>\n",
       "      <td>('ecoinvent 3.4 cutoff', '061b18e96ecc15ee1794...</td>\n",
       "      <td>1.917034</td>\n",
       "    </tr>\n",
       "    <tr>\n",
       "      <th>2</th>\n",
       "      <td>('ecoinvent 3.4 cutoff', 'ac1dc8332fc3e3ef9b54...</td>\n",
       "      <td>0.019995</td>\n",
       "    </tr>\n",
       "    <tr>\n",
       "      <th>3</th>\n",
       "      <td>('ecoinvent 3.4 cutoff', '7f09ea1ef9f039565af1...</td>\n",
       "      <td>0.621921</td>\n",
       "    </tr>\n",
       "    <tr>\n",
       "      <th>4</th>\n",
       "      <td>('ecoinvent 3.4 cutoff', '7ccfd8682007bdd32edd...</td>\n",
       "      <td>0.000000</td>\n",
       "    </tr>\n",
       "  </tbody>\n",
       "</table>\n",
       "</div>"
      ],
      "text/plain": [
       "                                                 key  \\\n",
       "0  ('ecoinvent 3.4 cutoff', 'a1716ba88fa010623183...   \n",
       "1  ('ecoinvent 3.4 cutoff', '061b18e96ecc15ee1794...   \n",
       "2  ('ecoinvent 3.4 cutoff', 'ac1dc8332fc3e3ef9b54...   \n",
       "3  ('ecoinvent 3.4 cutoff', '7f09ea1ef9f039565af1...   \n",
       "4  ('ecoinvent 3.4 cutoff', '7ccfd8682007bdd32edd...   \n",
       "\n",
       "   (IPCC 2013 as in EXIOBASE, climate change, GWP 100a)  \n",
       "0                                           0.005460     \n",
       "1                                           1.917034     \n",
       "2                                           0.019995     \n",
       "3                                           0.621921     \n",
       "4                                           0.000000     "
      ]
     },
     "execution_count": 14,
     "metadata": {},
     "output_type": "execute_result"
    }
   ],
   "source": [
    "df_LCIA = pd.DataFrame(MLCA.results, columns=[method], index=[str(a) for a in activities]).reset_index()\n",
    "df_LCIA.rename(columns={'index': 'key'}, inplace=True)\n",
    "print(df_LCIA.shape)\n",
    "df_LCIA.head()"
   ]
  },
  {
   "cell_type": "markdown",
   "metadata": {
    "tags": []
   },
   "source": [
    "#### Load the Activity Overview"
   ]
  },
  {
   "cell_type": "code",
   "execution_count": 15,
   "metadata": {},
   "outputs": [
    {
     "name": "stdout",
     "output_type": "stream",
     "text": [
      "(14889, 35)\n"
     ]
    },
    {
     "data": {
      "text/html": [
       "<div>\n",
       "<style scoped>\n",
       "    .dataframe tbody tr th:only-of-type {\n",
       "        vertical-align: middle;\n",
       "    }\n",
       "\n",
       "    .dataframe tbody tr th {\n",
       "        vertical-align: top;\n",
       "    }\n",
       "\n",
       "    .dataframe thead th {\n",
       "        text-align: right;\n",
       "    }\n",
       "</style>\n",
       "<table border=\"1\" class=\"dataframe\">\n",
       "  <thead>\n",
       "    <tr style=\"text-align: right;\">\n",
       "      <th></th>\n",
       "      <th>key</th>\n",
       "      <th>#</th>\n",
       "      <th>id</th>\n",
       "      <th>filename</th>\n",
       "      <th>activityName</th>\n",
       "      <th>geography</th>\n",
       "      <th>startDate</th>\n",
       "      <th>endDate</th>\n",
       "      <th>specialActivityType</th>\n",
       "      <th>technologyLevel</th>\n",
       "      <th>...</th>\n",
       "      <th>CPC</th>\n",
       "      <th>amount</th>\n",
       "      <th>unitName</th>\n",
       "      <th>productionVolumeAmount</th>\n",
       "      <th>absolute PV</th>\n",
       "      <th>productionVolumeComment</th>\n",
       "      <th>price</th>\n",
       "      <th>By-product classification</th>\n",
       "      <th>mft</th>\n",
       "      <th>functional unit</th>\n",
       "    </tr>\n",
       "  </thead>\n",
       "  <tbody>\n",
       "    <tr>\n",
       "      <th>0</th>\n",
       "      <td>('ecoinvent 3.4 cutoff', '0008dcb8309bd0ca4820...</td>\n",
       "      <td>3712</td>\n",
       "      <td>400461dd-45f4-4bcc-8eae-afa68e57664a</td>\n",
       "      <td>400461dd-45f4-4bcc-8eae-afa68e57664a_2966d161-...</td>\n",
       "      <td>market group for heavy fuel oil</td>\n",
       "      <td>RER</td>\n",
       "      <td>2015-01-01</td>\n",
       "      <td>2017-12-31</td>\n",
       "      <td>market group</td>\n",
       "      <td>Current</td>\n",
       "      <td>...</td>\n",
       "      <td>33370: Fuel oils n.e.c.</td>\n",
       "      <td>1</td>\n",
       "      <td>kg</td>\n",
       "      <td>1.019820e+11</td>\n",
       "      <td>True</td>\n",
       "      <td>NaN</td>\n",
       "      <td>0.0000</td>\n",
       "      <td>allocatable product</td>\n",
       "      <td>non-mft</td>\n",
       "      <td>1</td>\n",
       "    </tr>\n",
       "    <tr>\n",
       "      <th>1</th>\n",
       "      <td>('ecoinvent 3.4 cutoff', '001145735c7cee63ae10...</td>\n",
       "      <td>402</td>\n",
       "      <td>0766970d-6c54-497e-b458-2626f56d9e0c</td>\n",
       "      <td>0766970d-6c54-497e-b458-2626f56d9e0c_45fbbc41-...</td>\n",
       "      <td>treatment of municipal solid waste, incineration</td>\n",
       "      <td>AT</td>\n",
       "      <td>2006-01-01</td>\n",
       "      <td>2017-12-31</td>\n",
       "      <td>ordinary transforming activity</td>\n",
       "      <td>Current</td>\n",
       "      <td>...</td>\n",
       "      <td>17300: Steam and hot water</td>\n",
       "      <td>1</td>\n",
       "      <td>MJ</td>\n",
       "      <td>4.823674e+09</td>\n",
       "      <td>True</td>\n",
       "      <td>NaN</td>\n",
       "      <td>0.0106</td>\n",
       "      <td>allocatable product</td>\n",
       "      <td>non-mft</td>\n",
       "      <td>1</td>\n",
       "    </tr>\n",
       "  </tbody>\n",
       "</table>\n",
       "<p>2 rows × 35 columns</p>\n",
       "</div>"
      ],
      "text/plain": [
       "                                                 key     #  \\\n",
       "0  ('ecoinvent 3.4 cutoff', '0008dcb8309bd0ca4820...  3712   \n",
       "1  ('ecoinvent 3.4 cutoff', '001145735c7cee63ae10...   402   \n",
       "\n",
       "                                     id  \\\n",
       "0  400461dd-45f4-4bcc-8eae-afa68e57664a   \n",
       "1  0766970d-6c54-497e-b458-2626f56d9e0c   \n",
       "\n",
       "                                            filename  \\\n",
       "0  400461dd-45f4-4bcc-8eae-afa68e57664a_2966d161-...   \n",
       "1  0766970d-6c54-497e-b458-2626f56d9e0c_45fbbc41-...   \n",
       "\n",
       "                                       activityName geography   startDate  \\\n",
       "0                   market group for heavy fuel oil       RER  2015-01-01   \n",
       "1  treatment of municipal solid waste, incineration        AT  2006-01-01   \n",
       "\n",
       "      endDate             specialActivityType technologyLevel  ...  \\\n",
       "0  2017-12-31                    market group         Current  ...   \n",
       "1  2017-12-31  ordinary transforming activity         Current  ...   \n",
       "\n",
       "                          CPC amount unitName productionVolumeAmount  \\\n",
       "0     33370: Fuel oils n.e.c.      1       kg           1.019820e+11   \n",
       "1  17300: Steam and hot water      1       MJ           4.823674e+09   \n",
       "\n",
       "  absolute PV productionVolumeComment   price  By-product classification  \\\n",
       "0        True                     NaN  0.0000        allocatable product   \n",
       "1        True                     NaN  0.0106        allocatable product   \n",
       "\n",
       "       mft  functional unit  \n",
       "0  non-mft                1  \n",
       "1  non-mft                1  \n",
       "\n",
       "[2 rows x 35 columns]"
      ]
     },
     "execution_count": 15,
     "metadata": {},
     "output_type": "execute_result"
    }
   ],
   "source": [
    "activity_overview = f\"{DATA_PATH}ecoinvent/activity_overview_3.4_cut-off_LCIA_without_results.xlsx\"\n",
    "AO = pd.read_excel(activity_overview)\n",
    "print(AO.shape)\n",
    "AO.head(2)"
   ]
  },
  {
   "cell_type": "markdown",
   "metadata": {},
   "source": [
    "#### Add the LCA results data"
   ]
  },
  {
   "cell_type": "code",
   "execution_count": 16,
   "metadata": {},
   "outputs": [
    {
     "data": {
      "text/html": [
       "<div>\n",
       "<style scoped>\n",
       "    .dataframe tbody tr th:only-of-type {\n",
       "        vertical-align: middle;\n",
       "    }\n",
       "\n",
       "    .dataframe tbody tr th {\n",
       "        vertical-align: top;\n",
       "    }\n",
       "\n",
       "    .dataframe thead th {\n",
       "        text-align: right;\n",
       "    }\n",
       "</style>\n",
       "<table border=\"1\" class=\"dataframe\">\n",
       "  <thead>\n",
       "    <tr style=\"text-align: right;\">\n",
       "      <th></th>\n",
       "      <th>key</th>\n",
       "      <th>#</th>\n",
       "      <th>id</th>\n",
       "      <th>filename</th>\n",
       "      <th>activityName</th>\n",
       "      <th>geography</th>\n",
       "      <th>startDate</th>\n",
       "      <th>endDate</th>\n",
       "      <th>specialActivityType</th>\n",
       "      <th>technologyLevel</th>\n",
       "      <th>...</th>\n",
       "      <th>amount</th>\n",
       "      <th>unitName</th>\n",
       "      <th>productionVolumeAmount</th>\n",
       "      <th>absolute PV</th>\n",
       "      <th>productionVolumeComment</th>\n",
       "      <th>price</th>\n",
       "      <th>By-product classification</th>\n",
       "      <th>mft</th>\n",
       "      <th>functional unit</th>\n",
       "      <th>(IPCC 2013 as in EXIOBASE, climate change, GWP 100a)</th>\n",
       "    </tr>\n",
       "  </thead>\n",
       "  <tbody>\n",
       "    <tr>\n",
       "      <th>0</th>\n",
       "      <td>('ecoinvent 3.4 cutoff', '0008dcb8309bd0ca4820...</td>\n",
       "      <td>3712</td>\n",
       "      <td>400461dd-45f4-4bcc-8eae-afa68e57664a</td>\n",
       "      <td>400461dd-45f4-4bcc-8eae-afa68e57664a_2966d161-...</td>\n",
       "      <td>market group for heavy fuel oil</td>\n",
       "      <td>RER</td>\n",
       "      <td>2015-01-01</td>\n",
       "      <td>2017-12-31</td>\n",
       "      <td>market group</td>\n",
       "      <td>Current</td>\n",
       "      <td>...</td>\n",
       "      <td>1</td>\n",
       "      <td>kg</td>\n",
       "      <td>1.019820e+11</td>\n",
       "      <td>True</td>\n",
       "      <td>NaN</td>\n",
       "      <td>0.0000</td>\n",
       "      <td>allocatable product</td>\n",
       "      <td>non-mft</td>\n",
       "      <td>1</td>\n",
       "      <td>0.470319</td>\n",
       "    </tr>\n",
       "    <tr>\n",
       "      <th>1</th>\n",
       "      <td>('ecoinvent 3.4 cutoff', '001145735c7cee63ae10...</td>\n",
       "      <td>402</td>\n",
       "      <td>0766970d-6c54-497e-b458-2626f56d9e0c</td>\n",
       "      <td>0766970d-6c54-497e-b458-2626f56d9e0c_45fbbc41-...</td>\n",
       "      <td>treatment of municipal solid waste, incineration</td>\n",
       "      <td>AT</td>\n",
       "      <td>2006-01-01</td>\n",
       "      <td>2017-12-31</td>\n",
       "      <td>ordinary transforming activity</td>\n",
       "      <td>Current</td>\n",
       "      <td>...</td>\n",
       "      <td>1</td>\n",
       "      <td>MJ</td>\n",
       "      <td>4.823674e+09</td>\n",
       "      <td>True</td>\n",
       "      <td>NaN</td>\n",
       "      <td>0.0106</td>\n",
       "      <td>allocatable product</td>\n",
       "      <td>non-mft</td>\n",
       "      <td>1</td>\n",
       "      <td>0.000000</td>\n",
       "    </tr>\n",
       "  </tbody>\n",
       "</table>\n",
       "<p>2 rows × 36 columns</p>\n",
       "</div>"
      ],
      "text/plain": [
       "                                                 key     #  \\\n",
       "0  ('ecoinvent 3.4 cutoff', '0008dcb8309bd0ca4820...  3712   \n",
       "1  ('ecoinvent 3.4 cutoff', '001145735c7cee63ae10...   402   \n",
       "\n",
       "                                     id  \\\n",
       "0  400461dd-45f4-4bcc-8eae-afa68e57664a   \n",
       "1  0766970d-6c54-497e-b458-2626f56d9e0c   \n",
       "\n",
       "                                            filename  \\\n",
       "0  400461dd-45f4-4bcc-8eae-afa68e57664a_2966d161-...   \n",
       "1  0766970d-6c54-497e-b458-2626f56d9e0c_45fbbc41-...   \n",
       "\n",
       "                                       activityName geography   startDate  \\\n",
       "0                   market group for heavy fuel oil       RER  2015-01-01   \n",
       "1  treatment of municipal solid waste, incineration        AT  2006-01-01   \n",
       "\n",
       "      endDate             specialActivityType technologyLevel  ... amount  \\\n",
       "0  2017-12-31                    market group         Current  ...      1   \n",
       "1  2017-12-31  ordinary transforming activity         Current  ...      1   \n",
       "\n",
       "  unitName productionVolumeAmount absolute PV productionVolumeComment   price  \\\n",
       "0       kg           1.019820e+11        True                     NaN  0.0000   \n",
       "1       MJ           4.823674e+09        True                     NaN  0.0106   \n",
       "\n",
       "  By-product classification      mft  functional unit  \\\n",
       "0       allocatable product  non-mft                1   \n",
       "1       allocatable product  non-mft                1   \n",
       "\n",
       "   (IPCC 2013 as in EXIOBASE, climate change, GWP 100a)  \n",
       "0                                           0.470319     \n",
       "1                                           0.000000     \n",
       "\n",
       "[2 rows x 36 columns]"
      ]
     },
     "execution_count": 16,
     "metadata": {},
     "output_type": "execute_result"
    }
   ],
   "source": [
    "#AOr = AO.join(df_LCIA, on='key')\n",
    "AOr = pd.merge(AO, df_LCIA, on='key')\n",
    "AOr.head(2)"
   ]
  },
  {
   "cell_type": "markdown",
   "metadata": {},
   "source": [
    "#### rename the IPCC column"
   ]
  },
  {
   "cell_type": "code",
   "execution_count": 28,
   "metadata": {},
   "outputs": [
    {
     "data": {
      "text/html": [
       "<div>\n",
       "<style scoped>\n",
       "    .dataframe tbody tr th:only-of-type {\n",
       "        vertical-align: middle;\n",
       "    }\n",
       "\n",
       "    .dataframe tbody tr th {\n",
       "        vertical-align: top;\n",
       "    }\n",
       "\n",
       "    .dataframe thead th {\n",
       "        text-align: right;\n",
       "    }\n",
       "</style>\n",
       "<table border=\"1\" class=\"dataframe\">\n",
       "  <thead>\n",
       "    <tr style=\"text-align: right;\">\n",
       "      <th></th>\n",
       "      <th>key</th>\n",
       "      <th>#</th>\n",
       "      <th>id</th>\n",
       "      <th>filename</th>\n",
       "      <th>activityName</th>\n",
       "      <th>geography</th>\n",
       "      <th>startDate</th>\n",
       "      <th>endDate</th>\n",
       "      <th>specialActivityType</th>\n",
       "      <th>technologyLevel</th>\n",
       "      <th>...</th>\n",
       "      <th>amount</th>\n",
       "      <th>unitName</th>\n",
       "      <th>productionVolumeAmount</th>\n",
       "      <th>absolute PV</th>\n",
       "      <th>productionVolumeComment</th>\n",
       "      <th>price</th>\n",
       "      <th>By-product classification</th>\n",
       "      <th>mft</th>\n",
       "      <th>functional unit</th>\n",
       "      <th>(IPCC 2013, climate change, GWP 100a)</th>\n",
       "    </tr>\n",
       "  </thead>\n",
       "  <tbody>\n",
       "    <tr>\n",
       "      <th>0</th>\n",
       "      <td>('ecoinvent 3.4 cutoff', '0008dcb8309bd0ca4820...</td>\n",
       "      <td>3712</td>\n",
       "      <td>400461dd-45f4-4bcc-8eae-afa68e57664a</td>\n",
       "      <td>400461dd-45f4-4bcc-8eae-afa68e57664a_2966d161-...</td>\n",
       "      <td>market group for heavy fuel oil</td>\n",
       "      <td>RER</td>\n",
       "      <td>2015-01-01</td>\n",
       "      <td>2017-12-31</td>\n",
       "      <td>market group</td>\n",
       "      <td>Current</td>\n",
       "      <td>...</td>\n",
       "      <td>1</td>\n",
       "      <td>kg</td>\n",
       "      <td>1.019820e+11</td>\n",
       "      <td>True</td>\n",
       "      <td>NaN</td>\n",
       "      <td>0.0000</td>\n",
       "      <td>allocatable product</td>\n",
       "      <td>non-mft</td>\n",
       "      <td>1</td>\n",
       "      <td>0.470319</td>\n",
       "    </tr>\n",
       "    <tr>\n",
       "      <th>1</th>\n",
       "      <td>('ecoinvent 3.4 cutoff', '001145735c7cee63ae10...</td>\n",
       "      <td>402</td>\n",
       "      <td>0766970d-6c54-497e-b458-2626f56d9e0c</td>\n",
       "      <td>0766970d-6c54-497e-b458-2626f56d9e0c_45fbbc41-...</td>\n",
       "      <td>treatment of municipal solid waste, incineration</td>\n",
       "      <td>AT</td>\n",
       "      <td>2006-01-01</td>\n",
       "      <td>2017-12-31</td>\n",
       "      <td>ordinary transforming activity</td>\n",
       "      <td>Current</td>\n",
       "      <td>...</td>\n",
       "      <td>1</td>\n",
       "      <td>MJ</td>\n",
       "      <td>4.823674e+09</td>\n",
       "      <td>True</td>\n",
       "      <td>NaN</td>\n",
       "      <td>0.0106</td>\n",
       "      <td>allocatable product</td>\n",
       "      <td>non-mft</td>\n",
       "      <td>1</td>\n",
       "      <td>0.000000</td>\n",
       "    </tr>\n",
       "  </tbody>\n",
       "</table>\n",
       "<p>2 rows × 36 columns</p>\n",
       "</div>"
      ],
      "text/plain": [
       "                                                 key     #  \\\n",
       "0  ('ecoinvent 3.4 cutoff', '0008dcb8309bd0ca4820...  3712   \n",
       "1  ('ecoinvent 3.4 cutoff', '001145735c7cee63ae10...   402   \n",
       "\n",
       "                                     id  \\\n",
       "0  400461dd-45f4-4bcc-8eae-afa68e57664a   \n",
       "1  0766970d-6c54-497e-b458-2626f56d9e0c   \n",
       "\n",
       "                                            filename  \\\n",
       "0  400461dd-45f4-4bcc-8eae-afa68e57664a_2966d161-...   \n",
       "1  0766970d-6c54-497e-b458-2626f56d9e0c_45fbbc41-...   \n",
       "\n",
       "                                       activityName geography   startDate  \\\n",
       "0                   market group for heavy fuel oil       RER  2015-01-01   \n",
       "1  treatment of municipal solid waste, incineration        AT  2006-01-01   \n",
       "\n",
       "      endDate             specialActivityType technologyLevel  ... amount  \\\n",
       "0  2017-12-31                    market group         Current  ...      1   \n",
       "1  2017-12-31  ordinary transforming activity         Current  ...      1   \n",
       "\n",
       "  unitName productionVolumeAmount absolute PV productionVolumeComment   price  \\\n",
       "0       kg           1.019820e+11        True                     NaN  0.0000   \n",
       "1       MJ           4.823674e+09        True                     NaN  0.0106   \n",
       "\n",
       "  By-product classification      mft  functional unit  \\\n",
       "0       allocatable product  non-mft                1   \n",
       "1       allocatable product  non-mft                1   \n",
       "\n",
       "   (IPCC 2013, climate change, GWP 100a)  \n",
       "0                               0.470319  \n",
       "1                               0.000000  \n",
       "\n",
       "[2 rows x 36 columns]"
      ]
     },
     "execution_count": 28,
     "metadata": {},
     "output_type": "execute_result"
    }
   ],
   "source": [
    "AOr.rename(columns={('IPCC 2013 as in EXIOBASE', 'climate change', 'GWP 100a'): ('IPCC 2013', 'climate change', 'GWP 100a')}, inplace=True)\n",
    "AOr.head(2)"
   ]
  },
  {
   "cell_type": "markdown",
   "metadata": {},
   "source": [
    "# 4. Save the Activity Overview with LCIA results to Excel"
   ]
  },
  {
   "cell_type": "code",
   "execution_count": 29,
   "metadata": {},
   "outputs": [],
   "source": [
    "AOr.to_excel(f\"{DATA_PATH}/ecoinvent/activity_overview_3.4_cut-off_LCIA_results.xlsx\", \n",
    "                      sheet_name='activity overview')"
   ]
  }
 ],
 "metadata": {
  "kernelspec": {
   "display_name": "Python 3 (ipykernel)",
   "language": "python",
   "name": "python3"
  },
  "language_info": {
   "codemirror_mode": {
    "name": "ipython",
    "version": 3
   },
   "file_extension": ".py",
   "mimetype": "text/x-python",
   "name": "python",
   "nbconvert_exporter": "python",
   "pygments_lexer": "ipython3",
   "version": "3.8.12"
  }
 },
 "nbformat": 4,
 "nbformat_minor": 4
}
